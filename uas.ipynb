{
 "cells": [
  {
   "cell_type": "code",
   "execution_count": 153,
   "metadata": {},
   "outputs": [],
   "source": [
    "import numpy as np\n",
    "import pandas as pd"
   ]
  },
  {
   "cell_type": "code",
   "execution_count": 154,
   "metadata": {},
   "outputs": [
    {
     "data": {
      "text/html": [
       "<div>\n",
       "<style scoped>\n",
       "    .dataframe tbody tr th:only-of-type {\n",
       "        vertical-align: middle;\n",
       "    }\n",
       "\n",
       "    .dataframe tbody tr th {\n",
       "        vertical-align: top;\n",
       "    }\n",
       "\n",
       "    .dataframe thead th {\n",
       "        text-align: right;\n",
       "    }\n",
       "</style>\n",
       "<table border=\"1\" class=\"dataframe\">\n",
       "  <thead>\n",
       "    <tr style=\"text-align: right;\">\n",
       "      <th></th>\n",
       "      <th>Brand_Name</th>\n",
       "      <th>How_Many_Sold</th>\n",
       "      <th>Current_Price</th>\n",
       "      <th>Product_details</th>\n",
       "      <th>RATING</th>\n",
       "    </tr>\n",
       "  </thead>\n",
       "  <tbody>\n",
       "    <tr>\n",
       "      <th>0</th>\n",
       "      <td>ASIAN</td>\n",
       "      <td>2,242</td>\n",
       "      <td>₹1,098</td>\n",
       "      <td>Oxygen-01 Sports Running,Walking &amp; Gym Shoes w...</td>\n",
       "      <td>3.8</td>\n",
       "    </tr>\n",
       "    <tr>\n",
       "      <th>1</th>\n",
       "      <td>ASIAN</td>\n",
       "      <td>240</td>\n",
       "      <td>₹674</td>\n",
       "      <td>Men's Express-08 Sports Running,Walking,Gym,Tr...</td>\n",
       "      <td>4.0</td>\n",
       "    </tr>\n",
       "    <tr>\n",
       "      <th>2</th>\n",
       "      <td>ASIAN</td>\n",
       "      <td>16,662</td>\n",
       "      <td>₹588</td>\n",
       "      <td>Men's Cosko Sports Running,Walking,Gym,Trainin...</td>\n",
       "      <td>3.8</td>\n",
       "    </tr>\n",
       "    <tr>\n",
       "      <th>3</th>\n",
       "      <td>ASIAN</td>\n",
       "      <td>135</td>\n",
       "      <td>₹599</td>\n",
       "      <td>Wind-03 Sports Running,Walking &amp; Gym Shoes wit...</td>\n",
       "      <td>4.0</td>\n",
       "    </tr>\n",
       "    <tr>\n",
       "      <th>4</th>\n",
       "      <td>Reebok</td>\n",
       "      <td>240</td>\n",
       "      <td>₹982</td>\n",
       "      <td>Men's Velocity Runner Lp Running Shoe</td>\n",
       "      <td>4.0</td>\n",
       "    </tr>\n",
       "    <tr>\n",
       "      <th>...</th>\n",
       "      <td>...</td>\n",
       "      <td>...</td>\n",
       "      <td>...</td>\n",
       "      <td>...</td>\n",
       "      <td>...</td>\n",
       "    </tr>\n",
       "    <tr>\n",
       "      <th>23935</th>\n",
       "      <td>Campus</td>\n",
       "      <td>198</td>\n",
       "      <td>₹623</td>\n",
       "      <td>Men's HARVEL PRO Running Shoes</td>\n",
       "      <td>4.0</td>\n",
       "    </tr>\n",
       "    <tr>\n",
       "      <th>23936</th>\n",
       "      <td>Wakefield</td>\n",
       "      <td>49</td>\n",
       "      <td>₹399</td>\n",
       "      <td>Stylish Running Sports Shoes for MEN-2010</td>\n",
       "      <td>3.4</td>\n",
       "    </tr>\n",
       "    <tr>\n",
       "      <th>23937</th>\n",
       "      <td>URJO</td>\n",
       "      <td>557</td>\n",
       "      <td>₹839</td>\n",
       "      <td>Mens Running Shoes</td>\n",
       "      <td>4.2</td>\n",
       "    </tr>\n",
       "    <tr>\n",
       "      <th>23938</th>\n",
       "      <td>FEETEES</td>\n",
       "      <td>63</td>\n",
       "      <td>₹349</td>\n",
       "      <td>Nexon Men's Casual Eva Socks Knitted Running S...</td>\n",
       "      <td>3.6</td>\n",
       "    </tr>\n",
       "    <tr>\n",
       "      <th>23939</th>\n",
       "      <td>FURO</td>\n",
       "      <td>2</td>\n",
       "      <td>₹1,299</td>\n",
       "      <td>Low Ankle Running Sports Shoes for Men (O-5033)</td>\n",
       "      <td>3.0</td>\n",
       "    </tr>\n",
       "  </tbody>\n",
       "</table>\n",
       "<p>23940 rows × 5 columns</p>\n",
       "</div>"
      ],
      "text/plain": [
       "      Brand_Name How_Many_Sold Current_Price  \\\n",
       "0          ASIAN         2,242        ₹1,098   \n",
       "1          ASIAN           240          ₹674   \n",
       "2          ASIAN        16,662          ₹588   \n",
       "3          ASIAN           135          ₹599   \n",
       "4         Reebok           240          ₹982   \n",
       "...          ...           ...           ...   \n",
       "23935     Campus           198          ₹623   \n",
       "23936  Wakefield            49          ₹399   \n",
       "23937       URJO           557          ₹839   \n",
       "23938    FEETEES            63          ₹349   \n",
       "23939       FURO             2        ₹1,299   \n",
       "\n",
       "                                         Product_details  RATING  \n",
       "0      Oxygen-01 Sports Running,Walking & Gym Shoes w...     3.8  \n",
       "1      Men's Express-08 Sports Running,Walking,Gym,Tr...     4.0  \n",
       "2      Men's Cosko Sports Running,Walking,Gym,Trainin...     3.8  \n",
       "3      Wind-03 Sports Running,Walking & Gym Shoes wit...     4.0  \n",
       "4                Men's Velocity Runner Lp Running Shoe       4.0  \n",
       "...                                                  ...     ...  \n",
       "23935                   Men's HARVEL PRO Running Shoes       4.0  \n",
       "23936        Stylish Running Sports Shoes for MEN-2010       3.4  \n",
       "23937                               Mens Running Shoes       4.2  \n",
       "23938  Nexon Men's Casual Eva Socks Knitted Running S...     3.6  \n",
       "23939  Low Ankle Running Sports Shoes for Men (O-5033)       3.0  \n",
       "\n",
       "[23940 rows x 5 columns]"
      ]
     },
     "execution_count": 154,
     "metadata": {},
     "output_type": "execute_result"
    }
   ],
   "source": [
    "sepatu = pd.read_csv('MEN_SHOES.csv')\n",
    "sepatu"
   ]
  },
  {
   "cell_type": "code",
   "execution_count": 155,
   "metadata": {},
   "outputs": [],
   "source": [
    "import os\n",
    "import re\n",
    "\n",
    "import numpy as np # linear algebra\n",
    "import pandas as pd # data processing, CSV file I/O (e.g. pd.read_csv)\n",
    "\n",
    "import seaborn as sns # plotting library\n",
    "import plotly.express as px # another plotting library\n",
    "import plotly.io as pio\n",
    "\n",
    "import matplotlib\n",
    "import matplotlib.pylab as plt\n",
    "%matplotlib inline"
   ]
  },
  {
   "cell_type": "code",
   "execution_count": 156,
   "metadata": {},
   "outputs": [
    {
     "name": "stdout",
     "output_type": "stream",
     "text": [
      "<class 'pandas.core.frame.DataFrame'>\n",
      "RangeIndex: 23940 entries, 0 to 23939\n",
      "Data columns (total 5 columns):\n",
      " #   Column           Non-Null Count  Dtype  \n",
      "---  ------           --------------  -----  \n",
      " 0   Brand_Name       23940 non-null  object \n",
      " 1   How_Many_Sold    23940 non-null  object \n",
      " 2   Current_Price    23142 non-null  object \n",
      " 3   Product_details  23940 non-null  object \n",
      " 4   RATING           23940 non-null  float64\n",
      "dtypes: float64(1), object(4)\n",
      "memory usage: 935.3+ KB\n"
     ]
    }
   ],
   "source": [
    "sepatu.info()"
   ]
  },
  {
   "cell_type": "code",
   "execution_count": 157,
   "metadata": {},
   "outputs": [
    {
     "name": "stdout",
     "output_type": "stream",
     "text": [
      "             RATING\n",
      "count  23940.000000\n",
      "mean       3.836667\n",
      "std        0.410686\n",
      "min        2.400000\n",
      "25%        3.600000\n",
      "50%        4.000000\n",
      "75%        4.000000\n",
      "max        4.600000\n"
     ]
    }
   ],
   "source": [
    "print(sepatu.describe())"
   ]
  },
  {
   "cell_type": "code",
   "execution_count": 158,
   "metadata": {},
   "outputs": [],
   "source": [
    "# Remove rows where price is missing\n",
    "sepatu.dropna(axis='index', inplace=True)\n",
    "\n",
    "# Clean and convert numerical data\n",
    "for col in ['How_Many_Sold', 'Current_Price']:\n",
    "    # removes all non-digit characters\n",
    "    sepatu[col] = sepatu[col] \\\n",
    "        .astype(str).str \\\n",
    "        .replace(r'[^\\d]', '', regex=True) \\\n",
    "        .astype(int)"
   ]
  },
  {
   "cell_type": "code",
   "execution_count": 159,
   "metadata": {},
   "outputs": [
    {
     "data": {
      "text/html": [
       "<div>\n",
       "<style scoped>\n",
       "    .dataframe tbody tr th:only-of-type {\n",
       "        vertical-align: middle;\n",
       "    }\n",
       "\n",
       "    .dataframe tbody tr th {\n",
       "        vertical-align: top;\n",
       "    }\n",
       "\n",
       "    .dataframe thead th {\n",
       "        text-align: right;\n",
       "    }\n",
       "</style>\n",
       "<table border=\"1\" class=\"dataframe\">\n",
       "  <thead>\n",
       "    <tr style=\"text-align: right;\">\n",
       "      <th></th>\n",
       "      <th>Brand_Name</th>\n",
       "      <th>How_Many_Sold</th>\n",
       "      <th>Current_Price</th>\n",
       "      <th>Product_details</th>\n",
       "      <th>RATING</th>\n",
       "      <th>revenue</th>\n",
       "    </tr>\n",
       "  </thead>\n",
       "  <tbody>\n",
       "    <tr>\n",
       "      <th>0</th>\n",
       "      <td>ASIAN</td>\n",
       "      <td>2242</td>\n",
       "      <td>1098</td>\n",
       "      <td>Oxygen-01 Sports Running,Walking &amp; Gym Shoes w...</td>\n",
       "      <td>3.8</td>\n",
       "      <td>2461716</td>\n",
       "    </tr>\n",
       "    <tr>\n",
       "      <th>1</th>\n",
       "      <td>ASIAN</td>\n",
       "      <td>240</td>\n",
       "      <td>674</td>\n",
       "      <td>Men's Express-08 Sports Running,Walking,Gym,Tr...</td>\n",
       "      <td>4.0</td>\n",
       "      <td>161760</td>\n",
       "    </tr>\n",
       "    <tr>\n",
       "      <th>2</th>\n",
       "      <td>ASIAN</td>\n",
       "      <td>16662</td>\n",
       "      <td>588</td>\n",
       "      <td>Men's Cosko Sports Running,Walking,Gym,Trainin...</td>\n",
       "      <td>3.8</td>\n",
       "      <td>9797256</td>\n",
       "    </tr>\n",
       "    <tr>\n",
       "      <th>3</th>\n",
       "      <td>ASIAN</td>\n",
       "      <td>135</td>\n",
       "      <td>599</td>\n",
       "      <td>Wind-03 Sports Running,Walking &amp; Gym Shoes wit...</td>\n",
       "      <td>4.0</td>\n",
       "      <td>80865</td>\n",
       "    </tr>\n",
       "    <tr>\n",
       "      <th>4</th>\n",
       "      <td>Reebok</td>\n",
       "      <td>240</td>\n",
       "      <td>982</td>\n",
       "      <td>Men's Velocity Runner Lp Running Shoe</td>\n",
       "      <td>4.0</td>\n",
       "      <td>235680</td>\n",
       "    </tr>\n",
       "  </tbody>\n",
       "</table>\n",
       "</div>"
      ],
      "text/plain": [
       "  Brand_Name  How_Many_Sold  Current_Price  \\\n",
       "0      ASIAN           2242           1098   \n",
       "1      ASIAN            240            674   \n",
       "2      ASIAN          16662            588   \n",
       "3      ASIAN            135            599   \n",
       "4     Reebok            240            982   \n",
       "\n",
       "                                     Product_details  RATING  revenue  \n",
       "0  Oxygen-01 Sports Running,Walking & Gym Shoes w...     3.8  2461716  \n",
       "1  Men's Express-08 Sports Running,Walking,Gym,Tr...     4.0   161760  \n",
       "2  Men's Cosko Sports Running,Walking,Gym,Trainin...     3.8  9797256  \n",
       "3  Wind-03 Sports Running,Walking & Gym Shoes wit...     4.0    80865  \n",
       "4            Men's Velocity Runner Lp Running Shoe       4.0   235680  "
      ]
     },
     "execution_count": 159,
     "metadata": {},
     "output_type": "execute_result"
    }
   ],
   "source": [
    "sepatu['revenue'] = sepatu['Current_Price'] * sepatu['How_Many_Sold']\n",
    "sepatu.head()"
   ]
  },
  {
   "cell_type": "code",
   "execution_count": 160,
   "metadata": {},
   "outputs": [
    {
     "data": {
      "text/html": [
       "<div>\n",
       "<style scoped>\n",
       "    .dataframe tbody tr th:only-of-type {\n",
       "        vertical-align: middle;\n",
       "    }\n",
       "\n",
       "    .dataframe tbody tr th {\n",
       "        vertical-align: top;\n",
       "    }\n",
       "\n",
       "    .dataframe thead th {\n",
       "        text-align: right;\n",
       "    }\n",
       "</style>\n",
       "<table border=\"1\" class=\"dataframe\">\n",
       "  <thead>\n",
       "    <tr style=\"text-align: right;\">\n",
       "      <th></th>\n",
       "      <th>Brand_Name</th>\n",
       "      <th>How_Many_Sold</th>\n",
       "      <th>Current_Price</th>\n",
       "      <th>RATING</th>\n",
       "      <th>revenue</th>\n",
       "    </tr>\n",
       "  </thead>\n",
       "  <tbody>\n",
       "    <tr>\n",
       "      <th>0</th>\n",
       "      <td>ASIAN</td>\n",
       "      <td>41238645</td>\n",
       "      <td>699.750000</td>\n",
       "      <td>3.833333</td>\n",
       "      <td>21903470085</td>\n",
       "    </tr>\n",
       "    <tr>\n",
       "      <th>16</th>\n",
       "      <td>Sparx</td>\n",
       "      <td>18142929</td>\n",
       "      <td>1012.500000</td>\n",
       "      <td>4.133333</td>\n",
       "      <td>12713029770</td>\n",
       "    </tr>\n",
       "    <tr>\n",
       "      <th>5</th>\n",
       "      <td>Campus</td>\n",
       "      <td>5950287</td>\n",
       "      <td>897.916667</td>\n",
       "      <td>4.066667</td>\n",
       "      <td>6218065476</td>\n",
       "    </tr>\n",
       "    <tr>\n",
       "      <th>4</th>\n",
       "      <td>Bourge</td>\n",
       "      <td>7480053</td>\n",
       "      <td>699.000000</td>\n",
       "      <td>4.000000</td>\n",
       "      <td>5228557047</td>\n",
       "    </tr>\n",
       "    <tr>\n",
       "      <th>1</th>\n",
       "      <td>Adidas</td>\n",
       "      <td>2120286</td>\n",
       "      <td>1884.000000</td>\n",
       "      <td>4.200000</td>\n",
       "      <td>3228229998</td>\n",
       "    </tr>\n",
       "  </tbody>\n",
       "</table>\n",
       "</div>"
      ],
      "text/plain": [
       "   Brand_Name  How_Many_Sold  Current_Price    RATING      revenue\n",
       "0       ASIAN       41238645     699.750000  3.833333  21903470085\n",
       "16      Sparx       18142929    1012.500000  4.133333  12713029770\n",
       "5      Campus        5950287     897.916667  4.066667   6218065476\n",
       "4      Bourge        7480053     699.000000  4.000000   5228557047\n",
       "1      Adidas        2120286    1884.000000  4.200000   3228229998"
      ]
     },
     "execution_count": 160,
     "metadata": {},
     "output_type": "execute_result"
    }
   ],
   "source": [
    "df_brand_revenue = sepatu.groupby('Brand_Name').agg({\n",
    "    'How_Many_Sold': 'sum',\n",
    "    'Current_Price': 'mean',\n",
    "    'RATING': 'mean',\n",
    "    'revenue': 'sum'\n",
    "}).reset_index()\n",
    "df_brand_revenue.sort_values('revenue', ascending=False, inplace=True)\n",
    "df_brand_revenue.head()"
   ]
  },
  {
   "cell_type": "code",
   "execution_count": 161,
   "metadata": {},
   "outputs": [
    {
     "data": {
      "text/plain": [
       "89.4244988689834"
      ]
     },
     "execution_count": 161,
     "metadata": {},
     "output_type": "execute_result"
    }
   ],
   "source": [
    "total_revenue = df_brand_revenue['revenue'].sum()\n",
    "df_brand_revenue['revenue_pct'] = \\\n",
    "    df_brand_revenue['revenue'] * 100 / total_revenue\n",
    "\n",
    "df_brand_revenue[:5]['revenue_pct'].sum()"
   ]
  },
  {
   "cell_type": "code",
   "execution_count": 162,
   "metadata": {},
   "outputs": [
    {
     "data": {
      "application/vnd.plotly.v1+json": {
       "config": {
        "plotlyServerURL": "https://plot.ly"
       },
       "data": [
        {
         "domain": {
          "x": [
           0,
           1
          ],
          "y": [
           0,
           1
          ]
         },
         "hole": 0.4,
         "hoverinfo": "label+value+percent",
         "hovertemplate": "Brand_Name=%{label}<br>revenue=%{value}<extra></extra>",
         "labels": [
          "ASIAN",
          "Sparx",
          "Campus",
          "Bourge",
          "Adidas",
          "BATA",
          "Reebok",
          "Kraasa",
          "D Shoes",
          "Nivia",
          "Centrino",
          "URJO",
          "road runner",
          "Generic",
          "Robbie jones",
          "Axter",
          "FEETEES",
          "Wakefield",
          "Corstyle",
          "FURO"
         ],
         "legendgroup": "",
         "name": "",
         "showlegend": true,
         "textinfo": "percent+label",
         "textposition": "inside",
         "type": "pie",
         "values": [
          21903470085,
          12713029770,
          6218065476,
          5228557047,
          3228229998,
          1962503445,
          1327177740,
          1159460883,
          385836990,
          325452330,
          206537562,
          186461877,
          83821521,
          77429541,
          63115017,
          32259150,
          8772813,
          7800849,
          1617147,
          1036602
         ]
        }
       ],
       "layout": {
        "legend": {
         "tracegroupgap": 0
        },
        "template": {
         "data": {
          "bar": [
           {
            "error_x": {
             "color": "#2a3f5f"
            },
            "error_y": {
             "color": "#2a3f5f"
            },
            "marker": {
             "line": {
              "color": "#E5ECF6",
              "width": 0.5
             },
             "pattern": {
              "fillmode": "overlay",
              "size": 10,
              "solidity": 0.2
             }
            },
            "type": "bar"
           }
          ],
          "barpolar": [
           {
            "marker": {
             "line": {
              "color": "#E5ECF6",
              "width": 0.5
             },
             "pattern": {
              "fillmode": "overlay",
              "size": 10,
              "solidity": 0.2
             }
            },
            "type": "barpolar"
           }
          ],
          "carpet": [
           {
            "aaxis": {
             "endlinecolor": "#2a3f5f",
             "gridcolor": "white",
             "linecolor": "white",
             "minorgridcolor": "white",
             "startlinecolor": "#2a3f5f"
            },
            "baxis": {
             "endlinecolor": "#2a3f5f",
             "gridcolor": "white",
             "linecolor": "white",
             "minorgridcolor": "white",
             "startlinecolor": "#2a3f5f"
            },
            "type": "carpet"
           }
          ],
          "choropleth": [
           {
            "colorbar": {
             "outlinewidth": 0,
             "ticks": ""
            },
            "type": "choropleth"
           }
          ],
          "contour": [
           {
            "colorbar": {
             "outlinewidth": 0,
             "ticks": ""
            },
            "colorscale": [
             [
              0,
              "#0d0887"
             ],
             [
              0.1111111111111111,
              "#46039f"
             ],
             [
              0.2222222222222222,
              "#7201a8"
             ],
             [
              0.3333333333333333,
              "#9c179e"
             ],
             [
              0.4444444444444444,
              "#bd3786"
             ],
             [
              0.5555555555555556,
              "#d8576b"
             ],
             [
              0.6666666666666666,
              "#ed7953"
             ],
             [
              0.7777777777777778,
              "#fb9f3a"
             ],
             [
              0.8888888888888888,
              "#fdca26"
             ],
             [
              1,
              "#f0f921"
             ]
            ],
            "type": "contour"
           }
          ],
          "contourcarpet": [
           {
            "colorbar": {
             "outlinewidth": 0,
             "ticks": ""
            },
            "type": "contourcarpet"
           }
          ],
          "heatmap": [
           {
            "colorbar": {
             "outlinewidth": 0,
             "ticks": ""
            },
            "colorscale": [
             [
              0,
              "#0d0887"
             ],
             [
              0.1111111111111111,
              "#46039f"
             ],
             [
              0.2222222222222222,
              "#7201a8"
             ],
             [
              0.3333333333333333,
              "#9c179e"
             ],
             [
              0.4444444444444444,
              "#bd3786"
             ],
             [
              0.5555555555555556,
              "#d8576b"
             ],
             [
              0.6666666666666666,
              "#ed7953"
             ],
             [
              0.7777777777777778,
              "#fb9f3a"
             ],
             [
              0.8888888888888888,
              "#fdca26"
             ],
             [
              1,
              "#f0f921"
             ]
            ],
            "type": "heatmap"
           }
          ],
          "heatmapgl": [
           {
            "colorbar": {
             "outlinewidth": 0,
             "ticks": ""
            },
            "colorscale": [
             [
              0,
              "#0d0887"
             ],
             [
              0.1111111111111111,
              "#46039f"
             ],
             [
              0.2222222222222222,
              "#7201a8"
             ],
             [
              0.3333333333333333,
              "#9c179e"
             ],
             [
              0.4444444444444444,
              "#bd3786"
             ],
             [
              0.5555555555555556,
              "#d8576b"
             ],
             [
              0.6666666666666666,
              "#ed7953"
             ],
             [
              0.7777777777777778,
              "#fb9f3a"
             ],
             [
              0.8888888888888888,
              "#fdca26"
             ],
             [
              1,
              "#f0f921"
             ]
            ],
            "type": "heatmapgl"
           }
          ],
          "histogram": [
           {
            "marker": {
             "pattern": {
              "fillmode": "overlay",
              "size": 10,
              "solidity": 0.2
             }
            },
            "type": "histogram"
           }
          ],
          "histogram2d": [
           {
            "colorbar": {
             "outlinewidth": 0,
             "ticks": ""
            },
            "colorscale": [
             [
              0,
              "#0d0887"
             ],
             [
              0.1111111111111111,
              "#46039f"
             ],
             [
              0.2222222222222222,
              "#7201a8"
             ],
             [
              0.3333333333333333,
              "#9c179e"
             ],
             [
              0.4444444444444444,
              "#bd3786"
             ],
             [
              0.5555555555555556,
              "#d8576b"
             ],
             [
              0.6666666666666666,
              "#ed7953"
             ],
             [
              0.7777777777777778,
              "#fb9f3a"
             ],
             [
              0.8888888888888888,
              "#fdca26"
             ],
             [
              1,
              "#f0f921"
             ]
            ],
            "type": "histogram2d"
           }
          ],
          "histogram2dcontour": [
           {
            "colorbar": {
             "outlinewidth": 0,
             "ticks": ""
            },
            "colorscale": [
             [
              0,
              "#0d0887"
             ],
             [
              0.1111111111111111,
              "#46039f"
             ],
             [
              0.2222222222222222,
              "#7201a8"
             ],
             [
              0.3333333333333333,
              "#9c179e"
             ],
             [
              0.4444444444444444,
              "#bd3786"
             ],
             [
              0.5555555555555556,
              "#d8576b"
             ],
             [
              0.6666666666666666,
              "#ed7953"
             ],
             [
              0.7777777777777778,
              "#fb9f3a"
             ],
             [
              0.8888888888888888,
              "#fdca26"
             ],
             [
              1,
              "#f0f921"
             ]
            ],
            "type": "histogram2dcontour"
           }
          ],
          "mesh3d": [
           {
            "colorbar": {
             "outlinewidth": 0,
             "ticks": ""
            },
            "type": "mesh3d"
           }
          ],
          "parcoords": [
           {
            "line": {
             "colorbar": {
              "outlinewidth": 0,
              "ticks": ""
             }
            },
            "type": "parcoords"
           }
          ],
          "pie": [
           {
            "automargin": true,
            "type": "pie"
           }
          ],
          "scatter": [
           {
            "fillpattern": {
             "fillmode": "overlay",
             "size": 10,
             "solidity": 0.2
            },
            "type": "scatter"
           }
          ],
          "scatter3d": [
           {
            "line": {
             "colorbar": {
              "outlinewidth": 0,
              "ticks": ""
             }
            },
            "marker": {
             "colorbar": {
              "outlinewidth": 0,
              "ticks": ""
             }
            },
            "type": "scatter3d"
           }
          ],
          "scattercarpet": [
           {
            "marker": {
             "colorbar": {
              "outlinewidth": 0,
              "ticks": ""
             }
            },
            "type": "scattercarpet"
           }
          ],
          "scattergeo": [
           {
            "marker": {
             "colorbar": {
              "outlinewidth": 0,
              "ticks": ""
             }
            },
            "type": "scattergeo"
           }
          ],
          "scattergl": [
           {
            "marker": {
             "colorbar": {
              "outlinewidth": 0,
              "ticks": ""
             }
            },
            "type": "scattergl"
           }
          ],
          "scattermapbox": [
           {
            "marker": {
             "colorbar": {
              "outlinewidth": 0,
              "ticks": ""
             }
            },
            "type": "scattermapbox"
           }
          ],
          "scatterpolar": [
           {
            "marker": {
             "colorbar": {
              "outlinewidth": 0,
              "ticks": ""
             }
            },
            "type": "scatterpolar"
           }
          ],
          "scatterpolargl": [
           {
            "marker": {
             "colorbar": {
              "outlinewidth": 0,
              "ticks": ""
             }
            },
            "type": "scatterpolargl"
           }
          ],
          "scatterternary": [
           {
            "marker": {
             "colorbar": {
              "outlinewidth": 0,
              "ticks": ""
             }
            },
            "type": "scatterternary"
           }
          ],
          "surface": [
           {
            "colorbar": {
             "outlinewidth": 0,
             "ticks": ""
            },
            "colorscale": [
             [
              0,
              "#0d0887"
             ],
             [
              0.1111111111111111,
              "#46039f"
             ],
             [
              0.2222222222222222,
              "#7201a8"
             ],
             [
              0.3333333333333333,
              "#9c179e"
             ],
             [
              0.4444444444444444,
              "#bd3786"
             ],
             [
              0.5555555555555556,
              "#d8576b"
             ],
             [
              0.6666666666666666,
              "#ed7953"
             ],
             [
              0.7777777777777778,
              "#fb9f3a"
             ],
             [
              0.8888888888888888,
              "#fdca26"
             ],
             [
              1,
              "#f0f921"
             ]
            ],
            "type": "surface"
           }
          ],
          "table": [
           {
            "cells": {
             "fill": {
              "color": "#EBF0F8"
             },
             "line": {
              "color": "white"
             }
            },
            "header": {
             "fill": {
              "color": "#C8D4E3"
             },
             "line": {
              "color": "white"
             }
            },
            "type": "table"
           }
          ]
         },
         "layout": {
          "annotationdefaults": {
           "arrowcolor": "#2a3f5f",
           "arrowhead": 0,
           "arrowwidth": 1
          },
          "autotypenumbers": "strict",
          "coloraxis": {
           "colorbar": {
            "outlinewidth": 0,
            "ticks": ""
           }
          },
          "colorscale": {
           "diverging": [
            [
             0,
             "#8e0152"
            ],
            [
             0.1,
             "#c51b7d"
            ],
            [
             0.2,
             "#de77ae"
            ],
            [
             0.3,
             "#f1b6da"
            ],
            [
             0.4,
             "#fde0ef"
            ],
            [
             0.5,
             "#f7f7f7"
            ],
            [
             0.6,
             "#e6f5d0"
            ],
            [
             0.7,
             "#b8e186"
            ],
            [
             0.8,
             "#7fbc41"
            ],
            [
             0.9,
             "#4d9221"
            ],
            [
             1,
             "#276419"
            ]
           ],
           "sequential": [
            [
             0,
             "#0d0887"
            ],
            [
             0.1111111111111111,
             "#46039f"
            ],
            [
             0.2222222222222222,
             "#7201a8"
            ],
            [
             0.3333333333333333,
             "#9c179e"
            ],
            [
             0.4444444444444444,
             "#bd3786"
            ],
            [
             0.5555555555555556,
             "#d8576b"
            ],
            [
             0.6666666666666666,
             "#ed7953"
            ],
            [
             0.7777777777777778,
             "#fb9f3a"
            ],
            [
             0.8888888888888888,
             "#fdca26"
            ],
            [
             1,
             "#f0f921"
            ]
           ],
           "sequentialminus": [
            [
             0,
             "#0d0887"
            ],
            [
             0.1111111111111111,
             "#46039f"
            ],
            [
             0.2222222222222222,
             "#7201a8"
            ],
            [
             0.3333333333333333,
             "#9c179e"
            ],
            [
             0.4444444444444444,
             "#bd3786"
            ],
            [
             0.5555555555555556,
             "#d8576b"
            ],
            [
             0.6666666666666666,
             "#ed7953"
            ],
            [
             0.7777777777777778,
             "#fb9f3a"
            ],
            [
             0.8888888888888888,
             "#fdca26"
            ],
            [
             1,
             "#f0f921"
            ]
           ]
          },
          "colorway": [
           "#636efa",
           "#EF553B",
           "#00cc96",
           "#ab63fa",
           "#FFA15A",
           "#19d3f3",
           "#FF6692",
           "#B6E880",
           "#FF97FF",
           "#FECB52"
          ],
          "font": {
           "color": "#2a3f5f"
          },
          "geo": {
           "bgcolor": "white",
           "lakecolor": "white",
           "landcolor": "#E5ECF6",
           "showlakes": true,
           "showland": true,
           "subunitcolor": "white"
          },
          "hoverlabel": {
           "align": "left"
          },
          "hovermode": "closest",
          "mapbox": {
           "style": "light"
          },
          "paper_bgcolor": "white",
          "plot_bgcolor": "#E5ECF6",
          "polar": {
           "angularaxis": {
            "gridcolor": "white",
            "linecolor": "white",
            "ticks": ""
           },
           "bgcolor": "#E5ECF6",
           "radialaxis": {
            "gridcolor": "white",
            "linecolor": "white",
            "ticks": ""
           }
          },
          "scene": {
           "xaxis": {
            "backgroundcolor": "#E5ECF6",
            "gridcolor": "white",
            "gridwidth": 2,
            "linecolor": "white",
            "showbackground": true,
            "ticks": "",
            "zerolinecolor": "white"
           },
           "yaxis": {
            "backgroundcolor": "#E5ECF6",
            "gridcolor": "white",
            "gridwidth": 2,
            "linecolor": "white",
            "showbackground": true,
            "ticks": "",
            "zerolinecolor": "white"
           },
           "zaxis": {
            "backgroundcolor": "#E5ECF6",
            "gridcolor": "white",
            "gridwidth": 2,
            "linecolor": "white",
            "showbackground": true,
            "ticks": "",
            "zerolinecolor": "white"
           }
          },
          "shapedefaults": {
           "line": {
            "color": "#2a3f5f"
           }
          },
          "ternary": {
           "aaxis": {
            "gridcolor": "white",
            "linecolor": "white",
            "ticks": ""
           },
           "baxis": {
            "gridcolor": "white",
            "linecolor": "white",
            "ticks": ""
           },
           "bgcolor": "#E5ECF6",
           "caxis": {
            "gridcolor": "white",
            "linecolor": "white",
            "ticks": ""
           }
          },
          "title": {
           "x": 0.05
          },
          "xaxis": {
           "automargin": true,
           "gridcolor": "white",
           "linecolor": "white",
           "ticks": "",
           "title": {
            "standoff": 15
           },
           "zerolinecolor": "white",
           "zerolinewidth": 2
          },
          "yaxis": {
           "automargin": true,
           "gridcolor": "white",
           "linecolor": "white",
           "ticks": "",
           "title": {
            "standoff": 15
           },
           "zerolinecolor": "white",
           "zerolinewidth": 2
          }
         }
        },
        "title": {
         "text": "Percentage of Total Revenue by Brand"
        }
       }
      }
     },
     "metadata": {},
     "output_type": "display_data"
    }
   ],
   "source": [
    "fig = px.pie(\n",
    "    df_brand_revenue,\n",
    "    values='revenue',\n",
    "    names='Brand_Name',\n",
    "    title='Percentage of Total Revenue by Brand',\n",
    "    hole=.4,\n",
    ")\n",
    "fig.update_traces(\n",
    "    textposition='inside',\n",
    "    textinfo='percent+label',\n",
    "    hoverinfo='label+value+percent',\n",
    ")\n",
    "fig.show()"
   ]
  },
  {
   "cell_type": "code",
   "execution_count": 163,
   "metadata": {},
   "outputs": [
    {
     "data": {
      "text/plain": [
       "Brand_Name         0\n",
       "How_Many_Sold      0\n",
       "Current_Price      0\n",
       "Product_details    0\n",
       "RATING             0\n",
       "revenue            0\n",
       "dtype: int64"
      ]
     },
     "execution_count": 163,
     "metadata": {},
     "output_type": "execute_result"
    }
   ],
   "source": [
    "sepatu.isna().sum()"
   ]
  },
  {
   "cell_type": "code",
   "execution_count": 164,
   "metadata": {},
   "outputs": [],
   "source": [
    "# Scale numerical features\n",
    "from sklearn.preprocessing import StandardScaler, LabelEncoder\n",
    "scaler = StandardScaler()\n",
    "sepatu['How_Many_Sold'] = scaler.fit_transform(sepatu[['How_Many_Sold']])\n",
    "sepatu['Current_Price'] = scaler.fit_transform(sepatu[['Current_Price']])\n",
    "sepatu['RATING'] = scaler.fit_transform(sepatu[['RATING']])\n",
    "sepatu['revenue'] = scaler.fit_transform(sepatu[['revenue']])"
   ]
  },
  {
   "cell_type": "code",
   "execution_count": 165,
   "metadata": {},
   "outputs": [
    {
     "data": {
      "text/plain": [
       "Brand_Name         0\n",
       "How_Many_Sold      0\n",
       "Current_Price      0\n",
       "Product_details    0\n",
       "RATING             0\n",
       "revenue            0\n",
       "dtype: int64"
      ]
     },
     "execution_count": 165,
     "metadata": {},
     "output_type": "execute_result"
    }
   ],
   "source": [
    "sepatu.isna().sum()"
   ]
  },
  {
   "cell_type": "code",
   "execution_count": 166,
   "metadata": {},
   "outputs": [
    {
     "data": {
      "text/html": [
       "<div>\n",
       "<style scoped>\n",
       "    .dataframe tbody tr th:only-of-type {\n",
       "        vertical-align: middle;\n",
       "    }\n",
       "\n",
       "    .dataframe tbody tr th {\n",
       "        vertical-align: top;\n",
       "    }\n",
       "\n",
       "    .dataframe thead th {\n",
       "        text-align: right;\n",
       "    }\n",
       "</style>\n",
       "<table border=\"1\" class=\"dataframe\">\n",
       "  <thead>\n",
       "    <tr style=\"text-align: right;\">\n",
       "      <th></th>\n",
       "      <th>Brand_Name</th>\n",
       "      <th>How_Many_Sold</th>\n",
       "      <th>Current_Price</th>\n",
       "      <th>Product_details</th>\n",
       "      <th>RATING</th>\n",
       "      <th>revenue</th>\n",
       "    </tr>\n",
       "  </thead>\n",
       "  <tbody>\n",
       "    <tr>\n",
       "      <th>0</th>\n",
       "      <td>ASIAN</td>\n",
       "      <td>-0.125351</td>\n",
       "      <td>0.659952</td>\n",
       "      <td>Oxygen-01 Sports Running,Walking &amp; Gym Shoes w...</td>\n",
       "      <td>-0.051135</td>\n",
       "      <td>0.013423</td>\n",
       "    </tr>\n",
       "    <tr>\n",
       "      <th>1</th>\n",
       "      <td>ASIAN</td>\n",
       "      <td>-0.309078</td>\n",
       "      <td>-0.434199</td>\n",
       "      <td>Men's Express-08 Sports Running,Walking,Gym,Tr...</td>\n",
       "      <td>0.443168</td>\n",
       "      <td>-0.373105</td>\n",
       "    </tr>\n",
       "    <tr>\n",
       "      <th>2</th>\n",
       "      <td>ASIAN</td>\n",
       "      <td>1.197998</td>\n",
       "      <td>-0.656126</td>\n",
       "      <td>Men's Cosko Sports Running,Walking,Gym,Trainin...</td>\n",
       "      <td>-0.051135</td>\n",
       "      <td>1.246227</td>\n",
       "    </tr>\n",
       "    <tr>\n",
       "      <th>3</th>\n",
       "      <td>ASIAN</td>\n",
       "      <td>-0.318714</td>\n",
       "      <td>-0.627740</td>\n",
       "      <td>Wind-03 Sports Running,Walking &amp; Gym Shoes wit...</td>\n",
       "      <td>0.443168</td>\n",
       "      <td>-0.386700</td>\n",
       "    </tr>\n",
       "    <tr>\n",
       "      <th>4</th>\n",
       "      <td>Reebok</td>\n",
       "      <td>-0.309078</td>\n",
       "      <td>0.360609</td>\n",
       "      <td>Men's Velocity Runner Lp Running Shoe</td>\n",
       "      <td>0.443168</td>\n",
       "      <td>-0.360682</td>\n",
       "    </tr>\n",
       "    <tr>\n",
       "      <th>...</th>\n",
       "      <td>...</td>\n",
       "      <td>...</td>\n",
       "      <td>...</td>\n",
       "      <td>...</td>\n",
       "      <td>...</td>\n",
       "      <td>...</td>\n",
       "    </tr>\n",
       "    <tr>\n",
       "      <th>23935</th>\n",
       "      <td>Campus</td>\n",
       "      <td>-0.312932</td>\n",
       "      <td>-0.565807</td>\n",
       "      <td>Men's HARVEL PRO Running Shoes</td>\n",
       "      <td>0.443168</td>\n",
       "      <td>-0.379560</td>\n",
       "    </tr>\n",
       "    <tr>\n",
       "      <th>23936</th>\n",
       "      <td>Wakefield</td>\n",
       "      <td>-0.326606</td>\n",
       "      <td>-1.143849</td>\n",
       "      <td>Stylish Running Sports Shoes for MEN-2010</td>\n",
       "      <td>-1.039739</td>\n",
       "      <td>-0.397005</td>\n",
       "    </tr>\n",
       "    <tr>\n",
       "      <th>23937</th>\n",
       "      <td>URJO</td>\n",
       "      <td>-0.279986</td>\n",
       "      <td>-0.008409</td>\n",
       "      <td>Mens Running Shoes</td>\n",
       "      <td>0.937470</td>\n",
       "      <td>-0.321752</td>\n",
       "    </tr>\n",
       "    <tr>\n",
       "      <th>23938</th>\n",
       "      <td>FEETEES</td>\n",
       "      <td>-0.325321</td>\n",
       "      <td>-1.272876</td>\n",
       "      <td>Nexon Men's Casual Eva Socks Knitted Running S...</td>\n",
       "      <td>-0.545437</td>\n",
       "      <td>-0.396595</td>\n",
       "    </tr>\n",
       "    <tr>\n",
       "      <th>23939</th>\n",
       "      <td>FURO</td>\n",
       "      <td>-0.330919</td>\n",
       "      <td>1.178642</td>\n",
       "      <td>Low Ankle Running Sports Shoes for Men (O-5033)</td>\n",
       "      <td>-2.028344</td>\n",
       "      <td>-0.399854</td>\n",
       "    </tr>\n",
       "  </tbody>\n",
       "</table>\n",
       "<p>23142 rows × 6 columns</p>\n",
       "</div>"
      ],
      "text/plain": [
       "      Brand_Name  How_Many_Sold  Current_Price  \\\n",
       "0          ASIAN      -0.125351       0.659952   \n",
       "1          ASIAN      -0.309078      -0.434199   \n",
       "2          ASIAN       1.197998      -0.656126   \n",
       "3          ASIAN      -0.318714      -0.627740   \n",
       "4         Reebok      -0.309078       0.360609   \n",
       "...          ...            ...            ...   \n",
       "23935     Campus      -0.312932      -0.565807   \n",
       "23936  Wakefield      -0.326606      -1.143849   \n",
       "23937       URJO      -0.279986      -0.008409   \n",
       "23938    FEETEES      -0.325321      -1.272876   \n",
       "23939       FURO      -0.330919       1.178642   \n",
       "\n",
       "                                         Product_details    RATING   revenue  \n",
       "0      Oxygen-01 Sports Running,Walking & Gym Shoes w... -0.051135  0.013423  \n",
       "1      Men's Express-08 Sports Running,Walking,Gym,Tr...  0.443168 -0.373105  \n",
       "2      Men's Cosko Sports Running,Walking,Gym,Trainin... -0.051135  1.246227  \n",
       "3      Wind-03 Sports Running,Walking & Gym Shoes wit...  0.443168 -0.386700  \n",
       "4                Men's Velocity Runner Lp Running Shoe    0.443168 -0.360682  \n",
       "...                                                  ...       ...       ...  \n",
       "23935                   Men's HARVEL PRO Running Shoes    0.443168 -0.379560  \n",
       "23936        Stylish Running Sports Shoes for MEN-2010   -1.039739 -0.397005  \n",
       "23937                               Mens Running Shoes    0.937470 -0.321752  \n",
       "23938  Nexon Men's Casual Eva Socks Knitted Running S... -0.545437 -0.396595  \n",
       "23939  Low Ankle Running Sports Shoes for Men (O-5033)   -2.028344 -0.399854  \n",
       "\n",
       "[23142 rows x 6 columns]"
      ]
     },
     "execution_count": 166,
     "metadata": {},
     "output_type": "execute_result"
    }
   ],
   "source": [
    "sepatu"
   ]
  },
  {
   "cell_type": "code",
   "execution_count": 167,
   "metadata": {},
   "outputs": [],
   "source": [
    "df = sepatu"
   ]
  },
  {
   "cell_type": "code",
   "execution_count": 168,
   "metadata": {},
   "outputs": [
    {
     "name": "stdout",
     "output_type": "stream",
     "text": [
      "Columns in the dataset:\n",
      "Index(['Brand_Name', 'How_Many_Sold', 'Current_Price', 'Product_details',\n",
      "       'RATING', 'revenue'],\n",
      "      dtype='object')\n"
     ]
    }
   ],
   "source": [
    "import pandas as pd\n",
    "from sklearn.model_selection import train_test_split, GridSearchCV\n",
    "from sklearn.linear_model import LogisticRegression\n",
    "from sklearn.svm import SVC\n",
    "from sklearn.neural_network import MLPClassifier\n",
    "from sklearn.metrics import accuracy_score, precision_score, recall_score, f1_score, classification_report\n",
    "from sklearn.impute import SimpleImputer\n",
    "from sklearn.preprocessing import StandardScaler, OneHotEncoder, LabelEncoder\n",
    "from sklearn.compose import ColumnTransformer\n",
    "from sklearn.pipeline import Pipeline\n",
    "import matplotlib.pyplot as plt\n",
    "\n",
    "# Load the dataset\n",
    "sepatu\n",
    "\n",
    "# Display the columns to verify their names\n",
    "print(\"Columns in the dataset:\")\n",
    "print(sepatu.columns)\n",
    "\n",
    "# Separate features and target\n",
    "X = sepatu.drop(columns=['How_Many_Sold'])\n",
    "y = sepatu['How_Many_Sold']\n",
    "\n",
    "# Train-test split\n",
    "X_train, X_test, y_train, y_test = train_test_split(X, y, test_size=0.2, random_state=42)"
   ]
  },
  {
   "cell_type": "code",
   "execution_count": 169,
   "metadata": {},
   "outputs": [],
   "source": [
    "import pandas as pd\n",
    "from sklearn.model_selection import train_test_split\n",
    "from sklearn.linear_model import LogisticRegression\n",
    "from sklearn.metrics import accuracy_score, classification_report, confusion_matrix\n",
    "\n",
    "# Identify categorical columns\n",
    "categorical_cols = X.select_dtypes(include=['object']).columns.tolist()\n",
    "\n",
    "# Preprocess categorical variables using LabelEncoder\n",
    "label_encoder = LabelEncoder()\n",
    "for col in categorical_cols:\n",
    "    X[col] = label_encoder.fit_transform(X[col])\n",
    "\n",
    "# Assuming you have already loaded your dataset and preprocessed it\n",
    "# Split data into training and testing sets\n",
    "X_train, X_test, y_train, y_test = train_test_split(X, y, test_size=0.4, random_state=1234)"
   ]
  },
  {
   "cell_type": "code",
   "execution_count": 170,
   "metadata": {},
   "outputs": [
    {
     "data": {
      "text/html": [
       "<style>#sk-container-id-5 {color: black;background-color: white;}#sk-container-id-5 pre{padding: 0;}#sk-container-id-5 div.sk-toggleable {background-color: white;}#sk-container-id-5 label.sk-toggleable__label {cursor: pointer;display: block;width: 100%;margin-bottom: 0;padding: 0.3em;box-sizing: border-box;text-align: center;}#sk-container-id-5 label.sk-toggleable__label-arrow:before {content: \"▸\";float: left;margin-right: 0.25em;color: #696969;}#sk-container-id-5 label.sk-toggleable__label-arrow:hover:before {color: black;}#sk-container-id-5 div.sk-estimator:hover label.sk-toggleable__label-arrow:before {color: black;}#sk-container-id-5 div.sk-toggleable__content {max-height: 0;max-width: 0;overflow: hidden;text-align: left;background-color: #f0f8ff;}#sk-container-id-5 div.sk-toggleable__content pre {margin: 0.2em;color: black;border-radius: 0.25em;background-color: #f0f8ff;}#sk-container-id-5 input.sk-toggleable__control:checked~div.sk-toggleable__content {max-height: 200px;max-width: 100%;overflow: auto;}#sk-container-id-5 input.sk-toggleable__control:checked~label.sk-toggleable__label-arrow:before {content: \"▾\";}#sk-container-id-5 div.sk-estimator input.sk-toggleable__control:checked~label.sk-toggleable__label {background-color: #d4ebff;}#sk-container-id-5 div.sk-label input.sk-toggleable__control:checked~label.sk-toggleable__label {background-color: #d4ebff;}#sk-container-id-5 input.sk-hidden--visually {border: 0;clip: rect(1px 1px 1px 1px);clip: rect(1px, 1px, 1px, 1px);height: 1px;margin: -1px;overflow: hidden;padding: 0;position: absolute;width: 1px;}#sk-container-id-5 div.sk-estimator {font-family: monospace;background-color: #f0f8ff;border: 1px dotted black;border-radius: 0.25em;box-sizing: border-box;margin-bottom: 0.5em;}#sk-container-id-5 div.sk-estimator:hover {background-color: #d4ebff;}#sk-container-id-5 div.sk-parallel-item::after {content: \"\";width: 100%;border-bottom: 1px solid gray;flex-grow: 1;}#sk-container-id-5 div.sk-label:hover label.sk-toggleable__label {background-color: #d4ebff;}#sk-container-id-5 div.sk-serial::before {content: \"\";position: absolute;border-left: 1px solid gray;box-sizing: border-box;top: 0;bottom: 0;left: 50%;z-index: 0;}#sk-container-id-5 div.sk-serial {display: flex;flex-direction: column;align-items: center;background-color: white;padding-right: 0.2em;padding-left: 0.2em;position: relative;}#sk-container-id-5 div.sk-item {position: relative;z-index: 1;}#sk-container-id-5 div.sk-parallel {display: flex;align-items: stretch;justify-content: center;background-color: white;position: relative;}#sk-container-id-5 div.sk-item::before, #sk-container-id-5 div.sk-parallel-item::before {content: \"\";position: absolute;border-left: 1px solid gray;box-sizing: border-box;top: 0;bottom: 0;left: 50%;z-index: -1;}#sk-container-id-5 div.sk-parallel-item {display: flex;flex-direction: column;z-index: 1;position: relative;background-color: white;}#sk-container-id-5 div.sk-parallel-item:first-child::after {align-self: flex-end;width: 50%;}#sk-container-id-5 div.sk-parallel-item:last-child::after {align-self: flex-start;width: 50%;}#sk-container-id-5 div.sk-parallel-item:only-child::after {width: 0;}#sk-container-id-5 div.sk-dashed-wrapped {border: 1px dashed gray;margin: 0 0.4em 0.5em 0.4em;box-sizing: border-box;padding-bottom: 0.4em;background-color: white;}#sk-container-id-5 div.sk-label label {font-family: monospace;font-weight: bold;display: inline-block;line-height: 1.2em;}#sk-container-id-5 div.sk-label-container {text-align: center;}#sk-container-id-5 div.sk-container {/* jupyter's `normalize.less` sets `[hidden] { display: none; }` but bootstrap.min.css set `[hidden] { display: none !important; }` so we also need the `!important` here to be able to override the default hidden behavior on the sphinx rendered scikit-learn.org. See: https://github.com/scikit-learn/scikit-learn/issues/21755 */display: inline-block !important;position: relative;}#sk-container-id-5 div.sk-text-repr-fallback {display: none;}</style><div id=\"sk-container-id-5\" class=\"sk-top-container\"><div class=\"sk-text-repr-fallback\"><pre>LogisticRegression()</pre><b>In a Jupyter environment, please rerun this cell to show the HTML representation or trust the notebook. <br />On GitHub, the HTML representation is unable to render, please try loading this page with nbviewer.org.</b></div><div class=\"sk-container\" hidden><div class=\"sk-item\"><div class=\"sk-estimator sk-toggleable\"><input class=\"sk-toggleable__control sk-hidden--visually\" id=\"sk-estimator-id-5\" type=\"checkbox\" checked><label for=\"sk-estimator-id-5\" class=\"sk-toggleable__label sk-toggleable__label-arrow\">LogisticRegression</label><div class=\"sk-toggleable__content\"><pre>LogisticRegression()</pre></div></div></div></div></div>"
      ],
      "text/plain": [
       "LogisticRegression()"
      ]
     },
     "execution_count": 170,
     "metadata": {},
     "output_type": "execute_result"
    }
   ],
   "source": [
    "from sklearn.linear_model import LogisticRegression\n",
    "from sklearn.metrics import accuracy_score\n",
    "from sklearn import metrics\n",
    "\n",
    "# Assuming y_train is continuous, convert it to categorical if necessary\n",
    "# For example, if you want to predict 'high sales' vs 'low sales', you could:\n",
    "threshold = y_train.mean()\n",
    "y_train_categorical = (y_train > threshold).astype(int)  # 1 for high sales, 0 for low sales\n",
    "\n",
    "#train model on training set\n",
    "logreg = LogisticRegression()\n",
    "logreg.fit(X_train, y_train_categorical)  # Use the categorical target"
   ]
  },
  {
   "cell_type": "code",
   "execution_count": 171,
   "metadata": {},
   "outputs": [],
   "source": [
    "#predictions\n",
    "y_pred = logreg.predict(X_test)"
   ]
  },
  {
   "cell_type": "code",
   "execution_count": 172,
   "metadata": {},
   "outputs": [
    {
     "name": "stdout",
     "output_type": "stream",
     "text": [
      "1.0\n"
     ]
    }
   ],
   "source": [
    "# Assuming y_test is continuous, convert it to categorical if necessary\n",
    "# For example, if you want to predict 'high sales' vs 'low sales', you could:\n",
    "threshold = y_train.mean()  # Use the same threshold as you used for y_train\n",
    "y_test_categorical = (y_test > threshold).astype(int)  # 1 for high sales, 0 for low sales\n",
    "\n",
    "# Now use the categorical y_test for accuracy calculation\n",
    "print(metrics.accuracy_score(y_test_categorical, y_pred))"
   ]
  },
  {
   "cell_type": "code",
   "execution_count": 173,
   "metadata": {},
   "outputs": [
    {
     "data": {
      "text/plain": [
       "array([0, 0, 0, ..., 0, 0, 0])"
      ]
     },
     "execution_count": 173,
     "metadata": {},
     "output_type": "execute_result"
    }
   ],
   "source": [
    "from sklearn.linear_model import LogisticRegression\n",
    "\n",
    "logreg = LogisticRegression()\n",
    "\n",
    "# Convert y_train to a categorical variable (if it's not already)\n",
    "# For example, create a binary classification based on a threshold:\n",
    "threshold = y_train.mean()\n",
    "y_train_categorical = (y_train > threshold).astype(int)\n",
    "\n",
    "logreg.fit(X_train, y_train_categorical)  # Use the categorical target\n",
    "\n",
    "logreg.predict(X_test)"
   ]
  },
  {
   "cell_type": "code",
   "execution_count": 174,
   "metadata": {},
   "outputs": [
    {
     "data": {
      "text/plain": [
       "9257"
      ]
     },
     "execution_count": 174,
     "metadata": {},
     "output_type": "execute_result"
    }
   ],
   "source": [
    "y_pred = logreg.predict(X_test)\n",
    "\n",
    "len(y_pred)"
   ]
  },
  {
   "cell_type": "code",
   "execution_count": 175,
   "metadata": {},
   "outputs": [
    {
     "name": "stdout",
     "output_type": "stream",
     "text": [
      "1.0\n"
     ]
    }
   ],
   "source": [
    "from sklearn import metrics\n",
    "\n",
    "# Assuming y_test is continuous, convert it to categorical if necessary\n",
    "# For example, if you want to predict 'high sales' vs 'low sales', you could:\n",
    "threshold = y_train.mean()  # Use the same threshold as you used for y_train\n",
    "y_test_categorical = (y_test > threshold).astype(int)  # 1 for high sales, 0 for low sales\n",
    "\n",
    "# Now use the categorical y_test for accuracy calculation\n",
    "print(metrics.accuracy_score(y_test_categorical, y_pred))"
   ]
  },
  {
   "cell_type": "code",
   "execution_count": 176,
   "metadata": {},
   "outputs": [
    {
     "name": "stdout",
     "output_type": "stream",
     "text": [
      "1.0\n"
     ]
    }
   ],
   "source": [
    "from sklearn import metrics\n",
    "\n",
    "# Assuming y_test is continuous, convert it to categorical if necessary\n",
    "# For example, if you want to predict 'high sales' vs 'low sales', you could:\n",
    "threshold = y_train.mean()  # Use the same threshold as you used for y_train\n",
    "y_test_categorical = (y_test > threshold).astype(int)  # 1 for high sales, 0 for low sales\n",
    "\n",
    "# Now use the categorical y_test for accuracy calculation\n",
    "accuracy_logreg = metrics.accuracy_score(y_test_categorical, y_pred)\n",
    "precision_logreg = metrics.precision_score(y_test_categorical, y_pred, average='weighted', zero_division=1)\n",
    "recall_logreg = metrics.recall_score(y_test_categorical, y_pred, average='weighted', zero_division=1)\n",
    "f1_logreg = metrics.f1_score(y_test_categorical, y_pred, average='weighted', zero_division=1)\n",
    "\n",
    "print(accuracy_logreg)"
   ]
  },
  {
   "cell_type": "code",
   "execution_count": 177,
   "metadata": {},
   "outputs": [
    {
     "name": "stdout",
     "output_type": "stream",
     "text": [
      "1.0\n",
      "1.0\n",
      "1.0\n",
      "1.0\n"
     ]
    }
   ],
   "source": [
    "print(accuracy_logreg)\n",
    "print(precision_logreg)\n",
    "print(recall_logreg)\n",
    "print(f1_logreg)"
   ]
  },
  {
   "cell_type": "code",
   "execution_count": 178,
   "metadata": {},
   "outputs": [],
   "source": [
    "mae_linreg = metrics.mean_absolute_error(y_test, y_pred)\n",
    "mse_linreg = metrics.mean_squared_error(y_test, y_pred)\n",
    "rmse_linreg = np.sqrt(mse_linreg)\n",
    "r2_linreg = metrics.r2_score(y_test, y_pred)"
   ]
  },
  {
   "cell_type": "code",
   "execution_count": 179,
   "metadata": {},
   "outputs": [
    {
     "name": "stdout",
     "output_type": "stream",
     "text": [
      "0.6663726459366064\n",
      "0.6663726459366064\n",
      "0.8163165108808019\n",
      "0.29621042106834516\n"
     ]
    }
   ],
   "source": [
    "print(mse_linreg)\n",
    "print(mse_linreg)\n",
    "print(rmse_linreg)\n",
    "print(r2_linreg)"
   ]
  },
  {
   "cell_type": "code",
   "execution_count": 180,
   "metadata": {},
   "outputs": [],
   "source": [
    "from sklearn.neighbors import KNeighborsRegressor\n",
    "\n",
    "# Change the model to a regressor since the target variable is continuous\n",
    "knn = KNeighborsRegressor(n_neighbors=5)\n",
    "\n",
    "knn.fit(X_train, y_train)\n",
    "\n",
    "y_pred = knn.predict(X_test)\n"
   ]
  },
  {
   "cell_type": "code",
   "execution_count": 181,
   "metadata": {},
   "outputs": [
    {
     "name": "stdout",
     "output_type": "stream",
     "text": [
      "1.0\n"
     ]
    }
   ],
   "source": [
    "from sklearn import metrics\n",
    "\n",
    "# Assuming y_test is continuous, convert it to categorical if necessary\n",
    "# For example, if you want to predict 'high sales' vs 'low sales', you could:\n",
    "threshold = y_train.mean()  # Use the same threshold as you used for y_train\n",
    "y_test_categorical = (y_test > threshold).astype(int)  # 1 for high sales, 0 for low sales\n",
    "\n",
    "# Convert y_pred to categorical using the same threshold\n",
    "y_pred_categorical = (y_pred > threshold).astype(int)\n",
    "\n",
    "# Now use the categorical y_test for accuracy calculation\n",
    "accuracy_knn = metrics.accuracy_score(y_test_categorical, y_pred_categorical)  # Use y_pred_categorical\n",
    "precision_knn = metrics.precision_score(y_test_categorical, y_pred_categorical, average='weighted', zero_division=1)\n",
    "recall_knn = metrics.recall_score(y_test_categorical, y_pred_categorical, average='weighted', zero_division=1)\n",
    "f1_knn = metrics.f1_score(y_test_categorical, y_pred_categorical, average='weighted', zero_division=1)\n",
    "\n",
    "print(accuracy_knn)"
   ]
  },
  {
   "cell_type": "code",
   "execution_count": 182,
   "metadata": {},
   "outputs": [
    {
     "name": "stdout",
     "output_type": "stream",
     "text": [
      "<class 'pandas.core.frame.DataFrame'>\n",
      "Index: 23142 entries, 0 to 23939\n",
      "Data columns (total 6 columns):\n",
      " #   Column           Non-Null Count  Dtype  \n",
      "---  ------           --------------  -----  \n",
      " 0   Brand_Name       23142 non-null  object \n",
      " 1   How_Many_Sold    23142 non-null  float64\n",
      " 2   Current_Price    23142 non-null  float64\n",
      " 3   Product_details  23142 non-null  object \n",
      " 4   RATING           23142 non-null  float64\n",
      " 5   revenue          23142 non-null  float64\n",
      "dtypes: float64(4), object(2)\n",
      "memory usage: 1.2+ MB\n"
     ]
    }
   ],
   "source": [
    "sepatu.info()"
   ]
  },
  {
   "cell_type": "code",
   "execution_count": 183,
   "metadata": {},
   "outputs": [
    {
     "name": "stdout",
     "output_type": "stream",
     "text": [
      "1.0\n",
      "1.0\n",
      "1.0\n",
      "1.0\n"
     ]
    }
   ],
   "source": [
    "print(accuracy_knn)\n",
    "print(precision_knn)\n",
    "print(recall_knn)\n",
    "print(f1_knn)"
   ]
  },
  {
   "cell_type": "code",
   "execution_count": 184,
   "metadata": {},
   "outputs": [],
   "source": [
    "mae_knn = metrics.mean_absolute_error(y_test, y_pred)\n",
    "mse_knn = metrics.mean_squared_error(y_test, y_pred)\n",
    "rmse_knn = np.sqrt(mse_knn)\n",
    "r2_knn = metrics.r2_score(y_test, y_pred)"
   ]
  },
  {
   "cell_type": "code",
   "execution_count": 185,
   "metadata": {},
   "outputs": [
    {
     "name": "stdout",
     "output_type": "stream",
     "text": [
      "1.6144153338598026e-18\n",
      "4.359111466283789e-35\n",
      "6.602356750648808e-18\n",
      "1.0\n"
     ]
    }
   ],
   "source": [
    "print(mae_knn)\n",
    "print(mse_knn)\n",
    "print(rmse_knn)\n",
    "print(r2_knn)"
   ]
  },
  {
   "cell_type": "code",
   "execution_count": 186,
   "metadata": {},
   "outputs": [],
   "source": [
    "import pandas as pd\n",
    "from sklearn.neural_network import MLPRegressor  # Use a regressor for continuous targets\n",
    "from sklearn.metrics import mean_absolute_error, mean_squared_error, r2_score\n",
    "\n",
    "# Initialize your ANN regressor\n",
    "ann_regressor = MLPRegressor()  # Replace with your desired ANN model\n",
    "\n",
    "ann_regressor.fit(X_train, y_train)\n",
    "\n",
    "# Predictions\n",
    "y_pred = ann_regressor.predict(X_test)\n"
   ]
  },
  {
   "cell_type": "code",
   "execution_count": 187,
   "metadata": {},
   "outputs": [
    {
     "name": "stdout",
     "output_type": "stream",
     "text": [
      "0.9820676245003781\n"
     ]
    }
   ],
   "source": [
    "from sklearn import metrics\n",
    "\n",
    "# Assuming y_test is continuous, convert it to categorical if necessary\n",
    "# For example, if you want to predict 'high sales' vs 'low sales', you could:\n",
    "threshold = y_train.mean()  # Use the same threshold as you used for y_train\n",
    "y_test_categorical = (y_test > threshold).astype(int)  # 1 for high sales, 0 for low sales\n",
    "\n",
    "# Convert y_pred to categorical using the same threshold\n",
    "y_pred_categorical = (y_pred > threshold).astype(int)\n",
    "\n",
    "# Now use the categorical y_test for accuracy calculation\n",
    "accuracy_ann = metrics.accuracy_score(y_test_categorical, y_pred_categorical)  # Use y_pred_categorical\n",
    "precision_ann = metrics.precision_score(y_test_categorical, y_pred_categorical, average='weighted', zero_division=1)\n",
    "recall_ann = metrics.recall_score(y_test_categorical, y_pred_categorical, average='weighted', zero_division=1)\n",
    "f1_ann = metrics.f1_score(y_test_categorical, y_pred_categorical, average='weighted', zero_division=1)\n",
    "\n",
    "print(accuracy_ann)"
   ]
  },
  {
   "cell_type": "code",
   "execution_count": 188,
   "metadata": {},
   "outputs": [
    {
     "name": "stdout",
     "output_type": "stream",
     "text": [
      "0.9820676245003781\n",
      "0.9839492770496431\n",
      "0.9820676245003781\n",
      "0.9824681585710822\n"
     ]
    }
   ],
   "source": [
    "print(accuracy_ann)\n",
    "print(precision_ann)\n",
    "print(recall_ann)\n",
    "print(f1_ann)"
   ]
  },
  {
   "cell_type": "code",
   "execution_count": 189,
   "metadata": {},
   "outputs": [],
   "source": [
    "# Evaluate using regression metrics\n",
    "mae_ann = mean_absolute_error(y_test, y_pred)\n",
    "mse_ann = mean_squared_error(y_test, y_pred)\n",
    "rmse_ann = np.sqrt(mse_ann)\n",
    "r2_ann = r2_score(y_test, y_pred)"
   ]
  },
  {
   "cell_type": "code",
   "execution_count": 190,
   "metadata": {},
   "outputs": [
    {
     "name": "stdout",
     "output_type": "stream",
     "text": [
      "0.010630558974674981\n",
      "0.000302118535589517\n",
      "0.01738155734074243\n",
      "0.9996809174592527\n"
     ]
    }
   ],
   "source": [
    "print(mae_ann)\n",
    "print(mse_ann)\n",
    "print(rmse_ann)\n",
    "print(r2_ann)"
   ]
  }
 ],
 "metadata": {
  "kernelspec": {
   "display_name": "base",
   "language": "python",
   "name": "python3"
  },
  "language_info": {
   "codemirror_mode": {
    "name": "ipython",
    "version": 3
   },
   "file_extension": ".py",
   "mimetype": "text/x-python",
   "name": "python",
   "nbconvert_exporter": "python",
   "pygments_lexer": "ipython3",
   "version": "3.11.7"
  }
 },
 "nbformat": 4,
 "nbformat_minor": 2
}
